{
 "metadata": {
  "name": "",
  "signature": "sha256:16bf6ad2c65d1494d779e4eee3613226dbed01395cdd9890dc5839dc9eb93be5"
 },
 "nbformat": 3,
 "nbformat_minor": 0,
 "worksheets": [
  {
   "cells": [
    {
     "cell_type": "markdown",
     "metadata": {},
     "source": [
      "# Getting the Datasets\n",
      "\n",
      "AstroML includes commands for loading