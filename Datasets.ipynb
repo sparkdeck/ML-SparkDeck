{
 "metadata": {
  "name": "",
  "signature": "sha256:16bf6ad2c65d1494d779e4eee3613226dbed01395cdd9890dc5839dc9eb93be5"
 },
 "nbformat": 3,
 "nbformat_minor": 0,
 "worksheets": [
  {
   "cells": [
    {
     "cell_type": "markdown",
     "metadata": {},
     "source": [
      "# Getting the Datasets\n",
      "\n",
      "AstroML includes commands for loading various datasets.\n",
      "The first time the command is run, it fetches the data from the web, does some preprocessing, and caches the result on disk.\n",
      "\n",
      "In order to not inadvertently bring down the network, we need to do a bit of prep to import the files from the memory stick provided by the conference organizers.\n",
      "The following function will do this, if you specify the correct path of the 