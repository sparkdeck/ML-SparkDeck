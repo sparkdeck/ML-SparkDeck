
{
 "metadata": {
  "name": "",
  "signature": "sha256:52d0366aa82af43633deaad52d9a5b52a4e649150bdccb048354423038a9636c"
 },
 "nbformat": 3,
 "nbformat_minor": 0,
 "worksheets": [
  {
   "cells": [
    {
     "cell_type": "markdown",
     "metadata": {},
     "source": [
      "<small><i>This notebook was put together by [Jake Vanderplas](http://www.vanderplas.com) for PyCon 2015. Source and license info is on [GitHub](https://github.com/jakevdp/sklearn_pycon2015/).</i></small>"
     ]
    },
    {
     "cell_type": "markdown",
     "metadata": {},
     "source": [
      "# Clustering: K-Means In-Depth"
     ]
    },
    {
     "cell_type": "markdown",
     "metadata": {},
     "source": [
      "Here we'll explore **K Means Clustering**, which is an unsupervised clustering technique.\n",
      "\n",
      "We'll start with our standard set of initial imports"
     ]
    },
    {
     "cell_type": "code",
     "collapsed": false,
     "input": [
      "%matplotlib inline\n",
      "import numpy as np\n",
      "import matplotlib.pyplot as plt\n",
      "from scipy import stats\n",
      "\n",
      "# use seaborn plotting defaults\n",
      "import seaborn as sns; sns.set()"
     ],
     "language": "python",