{
 "metadata": {
  "name": "",
  "signature": "sha256:f5a85bf5bf354025ca4bbae625d8e4bde4d0936513cee5d134e347f0c898433f"
 },
 "nbformat": 3,
 "nbformat_minor": 0,
 "worksheets": [
  {
   "cells": [
    {
     "cell_type": "markdown",
     "metadata": {},
     "source": [
      "<small><i>This notebook was put toge